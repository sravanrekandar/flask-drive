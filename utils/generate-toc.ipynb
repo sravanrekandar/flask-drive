{
 "cells": [
  {
   "cell_type": "markdown",
   "metadata": {},
   "source": [
    "# Generate Table of contents from Markdown files"
   ]
  },
  {
   "cell_type": "code",
   "execution_count": 10,
   "metadata": {},
   "outputs": [],
   "source": [
    "input_file = '../Chapter02.md'\n",
    "prefix_file_name = 'Chapter02.md'\n"
   ]
  },
  {
   "cell_type": "code",
   "execution_count": 11,
   "metadata": {},
   "outputs": [],
   "source": [
    "# Read the file\n",
    "file = open(input_file)\n",
    "md_string = file.read()"
   ]
  },
  {
   "cell_type": "code",
   "execution_count": 12,
   "metadata": {},
   "outputs": [
    {
     "name": "stdout",
     "output_type": "stream",
     "text": [
      "- [Flask-Drive Chapter 02](Chapter02.md#Flask-Drive-Chapter-02)\n",
      "  - [Flask App routes - Serving HTML pages](Chapter02.md#Flask-App-routes---Serving-HTML-pages)\n",
      "    - [Explanation: Two routes in this app](Chapter02.md#Explanation:-Two-routes-in-this-app)\n",
      "  - [Serving HTML pages with header](Chapter02.md#Serving-HTML-pages-with-header)\n",
      "    - [HTML: Hyper Text Markup language](Chapter02.md#HTML:-Hyper-Text-Markup-language)\n",
      "      - [About page](Chapter02.md#About-page)\n",
      "      - [Contact Page (Not found)](Chapter02.md#Contact-Page-Not-found)\n",
      "    - [Code explanation - Route aliases](Chapter02.md#Code-explanation---Route-aliases)\n",
      "  - [Adding Contact Page and Not found page with Header.](Chapter02.md#Adding-Contact-Page-and-Not-found-page-with-Header)\n",
      "    - [Contact pge is handled now](Chapter02.md#Contact-pge-is-handled-now)\n",
      "    - [Not found is also handled nicely](Chapter02.md#Not-found-is-also-handled-nicely)\n"
     ]
    }
   ],
   "source": [
    "# This function accepts a Markdown string and returns markdown string of ToC\n",
    "import re\n",
    "def generateToC(md_string):\n",
    "    links_dictionary = {}\n",
    "    lines = md_string.split('\\n')\n",
    "    heading_lines = []\n",
    "    for line in lines:\n",
    "        if(len(line) > 0 and line[0] == \"#\"):\n",
    "            heading_lines.append(line)\n",
    "    \n",
    "    formatted_lines = []\n",
    "    for line in heading_lines:\n",
    "        level = line.index(' ')\n",
    "        \n",
    "        line_text = line[level+1:]\n",
    "        link_text = line_text.strip().lower()\n",
    "        link_text = line_text.replace(' ', '-')\n",
    "        link_text = re.sub(\"[^a-zA-Z\\d\\s:-]\", '', link_text)\n",
    "        \n",
    "        link_text = prefix_file_name + '#' + link_text\n",
    "        \n",
    "        # Handle duplicate names\n",
    "        if(link_text in links_dictionary) :\n",
    "            link_num = links_dictionary[link_text]\n",
    "            links_dictionary[link_text] += 1\n",
    "            link_text += str(linknum)\n",
    "        else:\n",
    "            links_dictionary[link_text] = 1\n",
    "        \n",
    "        line_link = '[{}]({})'.format(line_text, link_text)\n",
    "        lpad = ' ' * ((level - 1) * 2)\n",
    "        last_line_level = level\n",
    "        formatted_lines.append(f'{lpad}- {line_link}')\n",
    "    \n",
    "    print('\\n'.join(formatted_lines))\n",
    "        \n",
    "generateToC(md_string)"
   ]
  },
  {
   "cell_type": "code",
   "execution_count": null,
   "metadata": {},
   "outputs": [],
   "source": []
  },
  {
   "cell_type": "code",
   "execution_count": null,
   "metadata": {},
   "outputs": [],
   "source": []
  }
 ],
 "metadata": {
  "kernelspec": {
   "display_name": "Python 3",
   "language": "python",
   "name": "python3"
  },
  "language_info": {
   "codemirror_mode": {
    "name": "ipython",
    "version": 3
   },
   "file_extension": ".py",
   "mimetype": "text/x-python",
   "name": "python",
   "nbconvert_exporter": "python",
   "pygments_lexer": "ipython3",
   "version": "3.7.6"
  }
 },
 "nbformat": 4,
 "nbformat_minor": 2
}
