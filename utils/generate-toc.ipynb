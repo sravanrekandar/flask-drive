{
 "cells": [
  {
   "cell_type": "markdown",
   "metadata": {},
   "source": [
    "# Generate Table of contents from Markdown files"
   ]
  },
  {
   "cell_type": "code",
   "execution_count": 82,
   "metadata": {},
   "outputs": [],
   "source": [
    "input_file = '../Chapter01.md'\n",
    "prefix_file_name = 'Chapter01.md'\n"
   ]
  },
  {
   "cell_type": "code",
   "execution_count": 77,
   "metadata": {},
   "outputs": [],
   "source": [
    "# Read the file\n",
    "file = open(input_file)\n",
    "md_string = file.read()"
   ]
  },
  {
   "cell_type": "code",
   "execution_count": 84,
   "metadata": {},
   "outputs": [
    {
     "name": "stdout",
     "output_type": "stream",
     "text": [
      "- [Flask-Drive Class 01](Class01.md#flask-drive-class-01)\n",
      "  - [Create basic application and upload to github](Class01.md#create-basic-application-and-upload-to-github)\n",
      "    - [Create a directory for your experiment](Class01.md#create-a-directory-for-your-experiment)\n",
      "    - [Initiate Git repository](Class01.md#initiate-git-repository)\n",
      "    - [Create README.md and enter some text in the file](Class01.md#create-readme.md-and-enter-some-text-in-the-file)\n",
      "    - [Check the available files in your folder(aka directory)](Class01.md#check-the-available-files-in-your-folder(aka-directory))\n",
      "      - [list all contents with details](Class01.md#list-all-contents-with-details)\n",
      "      - [list all files/folders](Class01.md#list-all-files/folders)\n",
      "      - [list on the file names in multiple lines](Class01.md#list-on-the-file-names-in-multiple-lines)\n",
      "      - [List the contents of .git/](Class01.md#list-the-contents-of-.git/)\n",
      "    - [Committing the changes](Class01.md#committing-the-changes)\n",
      "      - [Check the status of your git repo](Class01.md#check-the-status-of-your-git-repo)\n",
      "      - [Stage the changes to commit](Class01.md#stage-the-changes-to-commit)\n",
      "      - [Commit the staged changes with a message](Class01.md#commit-the-staged-changes-with-a-message)\n",
      "    - [Track the progress with ```git log``` command](Class01.md#track-the-progress-with-```git-log```-command)\n",
      "    - [Create Python Virtual Environment](Class01.md#create-python-virtual-environment)\n",
      "      - [Check python version](Class01.md#check-python-version)\n",
      "      - [Create a virtual environment](Class01.md#create-a-virtual-environment)\n",
      "        - [Using python's native _venv_](Class01.md#using-python's-native-_venv_)\n",
      "        - [Using pip's _virtualenv_ for python < 3.3](Class01.md#using-pip's-_virtualenv_-for-python-<-3.3)\n",
      "      - [Environment folder](Class01.md#environment-folder)\n",
      "    - [Activating the virtual environment](Class01.md#activating-the-virtual-environment)\n",
      "      - [For unix based OS](Class01.md#for-unix-based-os)\n",
      "    - [For windows OS](Class01.md#for-windows-os)\n",
      "      - [Deactivating environment](Class01.md#deactivating-environment)\n",
      "    - [Preventing git to track the environment folder](Class01.md#preventing-git-to-track-the-environment-folder)\n",
      "      - [Add ```.gitignore``` file](Class01.md#add-```.gitignore```-file)\n",
      "      - [Checking the repo status](Class01.md#checking-the-repo-status)\n",
      "      - [Stage and Commit the changes](Class01.md#stage-and-commit-the-changes)\n",
      "    - [Enhancing .gitignore](Class01.md#enhancing-.gitignore)\n",
      "    - [Install Flask dependency](Class01.md#install-flask-dependency)\n",
      "      - [Getting the installed package list](Class01.md#getting-the-installed-package-list)\n",
      "      - [Writing the dependency modules list the ```requirements.txt```](Class01.md#writing-the-dependency-modules-list-the-```requirements.txt```)\n",
      "    - [Starting Flask script](Class01.md#starting-flask-script)\n",
      "    - [Start Flask server app](Class01.md#start-flask-server-app)\n",
      "      - [Using the flask app in a browsers](Class01.md#using-the-flask-app-in-a-browsers)\n",
      "    - [Creating Github repository](Class01.md#creating-github-repository)\n",
      "    - [Connecting local repo to the github repo](Class01.md#connecting-local-repo-to-the-github-repo)\n",
      "    - [Pushing your changes to remote repo](Class01.md#pushing-your-changes-to-remote-repo)\n",
      "    - [Deleting the local repository and fetching from github](Class01.md#deleting-the-local-repository-and-fetching-from-github)\n",
      "      - [Deactivate before you come out of the folder](Class01.md#deactivate-before-you-come-out-of-the-folder)\n",
      "      - [Delete the folder](Class01.md#delete-the-folder)\n",
      "      - [Cloning the cloud repository to your local machine](Class01.md#cloning-the-cloud-repository-to-your-local-machine)\n",
      "    - [Creating virtual environment with name 'env'](Class01.md#creating-virtual-environment-with-name-'env')\n",
      "    - [Install dependencies with requirements.txt](Class01.md#install-dependencies-with-requirements.txt)\n",
      "    - [Starting the application](Class01.md#starting-the-application)\n"
     ]
    }
   ],
   "source": [
    "# This function accepts a Markdown string and returns markdown string of ToC\n",
    "def generateToC(md_string):\n",
    "    lines = md_string.split('\\n')\n",
    "    heading_lines = []\n",
    "    for line in lines:\n",
    "        if(len(line) > 0 and line[0] == \"#\"):\n",
    "            heading_lines.append(line)\n",
    "    \n",
    "    formatted_lines = []\n",
    "    for line in heading_lines:\n",
    "        level = line.index(' ')\n",
    "        line_text = line[level+1:]\n",
    "        link_text = prefix_file_name + '#' + line_text.replace(' ', '-').lower()\n",
    "\n",
    "        line_link = '[{}]({})'.format(line_text, link_text)\n",
    "        lpad = ' ' * ((level - 1) * 2)\n",
    "        last_line_level = level\n",
    "        formatted_lines.append(f'{lpad}- {line_link}')\n",
    "    \n",
    "    print('\\n'.join(formatted_lines))\n",
    "        \n",
    "generateToC(md_string)"
   ]
  },
  {
   "cell_type": "code",
   "execution_count": null,
   "metadata": {},
   "outputs": [],
   "source": []
  },
  {
   "cell_type": "code",
   "execution_count": null,
   "metadata": {},
   "outputs": [],
   "source": []
  }
 ],
 "metadata": {
  "kernelspec": {
   "display_name": "Python 3",
   "language": "python",
   "name": "python3"
  },
  "language_info": {
   "codemirror_mode": {
    "name": "ipython",
    "version": 3
   },
   "file_extension": ".py",
   "mimetype": "text/x-python",
   "name": "python",
   "nbconvert_exporter": "python",
   "pygments_lexer": "ipython3",
   "version": "3.7.6"
  }
 },
 "nbformat": 4,
 "nbformat_minor": 2
}